{
 "cells": [
  {
   "cell_type": "markdown",
   "metadata": {},
   "source": [
    "# User Profile Prediction \n",
    "**Machine Learning with Python Group Project:\n",
    "predict user gender and age according to the browse history**"
   ]
  },
  {
   "cell_type": "markdown",
   "metadata": {},
   "source": [
    "### **1. Data Preprocessing**"
   ]
  },
  {
   "cell_type": "code",
   "execution_count": 1,
   "metadata": {},
   "outputs": [
    {
     "data": {
      "text/html": [
       "<div>\n",
       "<style scoped>\n",
       "    .dataframe tbody tr th:only-of-type {\n",
       "        vertical-align: middle;\n",
       "    }\n",
       "\n",
       "    .dataframe tbody tr th {\n",
       "        vertical-align: top;\n",
       "    }\n",
       "\n",
       "    .dataframe thead th {\n",
       "        text-align: right;\n",
       "    }\n",
       "</style>\n",
       "<table border=\"1\" class=\"dataframe\">\n",
       "  <thead>\n",
       "    <tr style=\"text-align: right;\">\n",
       "      <th></th>\n",
       "      <th>ID</th>\n",
       "      <th>keywords</th>\n",
       "      <th>age</th>\n",
       "      <th>sex</th>\n",
       "    </tr>\n",
       "  </thead>\n",
       "  <tbody>\n",
       "    <tr>\n",
       "      <th>0</th>\n",
       "      <td>1</td>\n",
       "      <td>fibre:16;quoi:1;dangers:1;combien:1;hightech:1...</td>\n",
       "      <td>62</td>\n",
       "      <td>F</td>\n",
       "    </tr>\n",
       "    <tr>\n",
       "      <th>1</th>\n",
       "      <td>2</td>\n",
       "      <td>restaurant:1;marrakech.shtml:1</td>\n",
       "      <td>35</td>\n",
       "      <td>M</td>\n",
       "    </tr>\n",
       "    <tr>\n",
       "      <th>2</th>\n",
       "      <td>3</td>\n",
       "      <td>payer:1;faq:1;taxe:1;habitation:1;macron:1;qui...</td>\n",
       "      <td>45</td>\n",
       "      <td>F</td>\n",
       "    </tr>\n",
       "    <tr>\n",
       "      <th>3</th>\n",
       "      <td>4</td>\n",
       "      <td>rigaud:3;laurent:3;photo:11;profile:8;photopro...</td>\n",
       "      <td>46</td>\n",
       "      <td>F</td>\n",
       "    </tr>\n",
       "    <tr>\n",
       "      <th>4</th>\n",
       "      <td>5</td>\n",
       "      <td>societe:1;disparition:1;proche:1;m%c3%a9lanie....</td>\n",
       "      <td>42</td>\n",
       "      <td>F</td>\n",
       "    </tr>\n",
       "  </tbody>\n",
       "</table>\n",
       "</div>"
      ],
      "text/plain": [
       "   ID                                           keywords  age sex\n",
       "0   1  fibre:16;quoi:1;dangers:1;combien:1;hightech:1...   62   F\n",
       "1   2                     restaurant:1;marrakech.shtml:1   35   M\n",
       "2   3  payer:1;faq:1;taxe:1;habitation:1;macron:1;qui...   45   F\n",
       "3   4  rigaud:3;laurent:3;photo:11;profile:8;photopro...   46   F\n",
       "4   5  societe:1;disparition:1;proche:1;m%c3%a9lanie....   42   F"
      ]
     },
     "execution_count": 1,
     "metadata": {},
     "output_type": "execute_result"
    }
   ],
   "source": [
    "import numpy as np \n",
    "import pandas as pd \n",
    "import seaborn as sns\n",
    "import matplotlib.pyplot as plt\n",
    "import warnings \n",
    "warnings.filterwarnings('ignore')\n",
    "\n",
    "data = pd.read_csv('./train.csv')\n",
    "data.head() "
   ]
  },
  {
   "cell_type": "code",
   "execution_count": 2,
   "metadata": {},
   "outputs": [
    {
     "data": {
      "image/png": "[encoded data removed]",
      "text/plain": [
       "<Figure size 432x288 with 1 Axes>"
      ]
     },
     "metadata": {
      "needs_background": "light"
     },
     "output_type": "display_data"
    }
   ],
   "source": [
    "# check data distribution\n",
    "df = data.copy()\n",
    "df.sex.value_counts(normalize=True).plot(kind='bar') \n",
    "plt.show()"
   ]
  },
  {
   "cell_type": "code",
   "execution_count": 3,
   "metadata": {},
   "outputs": [
    {
     "data": {
      "text/plain": [
       "ID               0\n",
       "keywords    846396\n",
       "age              0\n",
       "sex              0\n",
       "dtype: int64"
      ]
     },
     "execution_count": 3,
     "metadata": {},
     "output_type": "execute_result"
    }
   ],
   "source": [
    "# check the missing value\n",
    "data.isnull().sum()"
   ]
  },
  {
   "cell_type": "code",
   "execution_count": 4,
   "metadata": {},
   "outputs": [
    {
     "data": {
      "text/plain": [
       "(6418659, 4)"
      ]
     },
     "execution_count": 4,
     "metadata": {},
     "output_type": "execute_result"
    }
   ],
   "source": [
    "# drop the missing value\n",
    "data = data.dropna()\n",
    "data = data.reset_index(drop=True)\n",
    "data.shape"
   ]
  },
  {
   "cell_type": "code",
   "execution_count": 5,
   "metadata": {},
   "outputs": [
    {
     "data": {
      "text/html": [
       "<div>\n",
       "<style scoped>\n",
       "    .dataframe tbody tr th:only-of-type {\n",
       "        vertical-align: middle;\n",
       "    }\n",
       "\n",
       "    .dataframe tbody tr th {\n",
       "        vertical-align: top;\n",
       "    }\n",
       "\n",
       "    .dataframe thead th {\n",
       "        text-align: right;\n",
       "    }\n",
       "</style>\n",
       "<table border=\"1\" class=\"dataframe\">\n",
       "  <thead>\n",
       "    <tr style=\"text-align: right;\">\n",
       "      <th></th>\n",
       "      <th>ID</th>\n",
       "      <th>keywords</th>\n",
       "      <th>age</th>\n",
       "      <th>sex</th>\n",
       "      <th>nbr_words</th>\n",
       "    </tr>\n",
       "  </thead>\n",
       "  <tbody>\n",
       "    <tr>\n",
       "      <th>0</th>\n",
       "      <td>1</td>\n",
       "      <td>fibre:16;quoi:1;dangers:1;combien:1;hightech:1...</td>\n",
       "      <td>62</td>\n",
       "      <td>F</td>\n",
       "      <td>57</td>\n",
       "    </tr>\n",
       "    <tr>\n",
       "      <th>1</th>\n",
       "      <td>2</td>\n",
       "      <td>restaurant:1;marrakech.shtml:1</td>\n",
       "      <td>35</td>\n",
       "      <td>M</td>\n",
       "      <td>1</td>\n",
       "    </tr>\n",
       "    <tr>\n",
       "      <th>2</th>\n",
       "      <td>3</td>\n",
       "      <td>payer:1;faq:1;taxe:1;habitation:1;macron:1;qui...</td>\n",
       "      <td>45</td>\n",
       "      <td>F</td>\n",
       "      <td>7</td>\n",
       "    </tr>\n",
       "    <tr>\n",
       "      <th>3</th>\n",
       "      <td>4</td>\n",
       "      <td>rigaud:3;laurent:3;photo:11;profile:8;photopro...</td>\n",
       "      <td>46</td>\n",
       "      <td>F</td>\n",
       "      <td>17</td>\n",
       "    </tr>\n",
       "    <tr>\n",
       "      <th>4</th>\n",
       "      <td>5</td>\n",
       "      <td>societe:1;disparition:1;proche:1;m%c3%a9lanie....</td>\n",
       "      <td>42</td>\n",
       "      <td>F</td>\n",
       "      <td>18</td>\n",
       "    </tr>\n",
       "  </tbody>\n",
       "</table>\n",
       "</div>"
      ],
      "text/plain": [
       "   ID                                           keywords  age sex  nbr_words\n",
       "0   1  fibre:16;quoi:1;dangers:1;combien:1;hightech:1...   62   F         57\n",
       "1   2                     restaurant:1;marrakech.shtml:1   35   M          1\n",
       "2   3  payer:1;faq:1;taxe:1;habitation:1;macron:1;qui...   45   F          7\n",
       "3   4  rigaud:3;laurent:3;photo:11;profile:8;photopro...   46   F         17\n",
       "4   5  societe:1;disparition:1;proche:1;m%c3%a9lanie....   42   F         18"
      ]
     },
     "execution_count": 5,
     "metadata": {},
     "output_type": "execute_result"
    }
   ],
   "source": [
    "# count the length of keywords\n",
    "data['nbr_words'] = data['keywords'].apply(lambda x : x.count(\";\"))\n",
    "data.head()"
   ]
  },
  {
   "cell_type": "code",
   "execution_count": 6,
   "metadata": {},
   "outputs": [
    {
     "data": {
      "image/png": "[encoded data removed]",
      "text/plain": [
       "<Figure size 432x288 with 1 Axes>"
      ]
     },
     "metadata": {
      "needs_background": "light"
     },
     "output_type": "display_data"
    }
   ],
   "source": [
    "sns.kdeplot(data.nbr_words)\n",
    "plt.show()"
   ]
  },
  {
   "cell_type": "code",
   "execution_count": 7,
   "metadata": {},
   "outputs": [
    {
     "data": {
      "text/plain": [
       "(472601, 5)"
      ]
     },
     "execution_count": 7,
     "metadata": {},
     "output_type": "execute_result"
    }
   ],
   "source": [
    "# from the density plot, we decide to drop the nbr_words lower than 50\n",
    "droprows = data[data['nbr_words'] < 50].index\n",
    "data = data.drop(droprows).reset_index(drop = True)\n",
    "data.shape"
   ]
  },
  {
   "cell_type": "code",
   "execution_count": 8,
   "metadata": {},
   "outputs": [
    {
     "data": {
      "text/plain": [
       "(10000, 5)"
      ]
     },
     "execution_count": 8,
     "metadata": {},
     "output_type": "execute_result"
    }
   ],
   "source": [
    "# considering the computing power, we only slice the first 20000 rows data\n",
    "data = data.iloc[:10000,:]\n",
    "data.shape"
   ]
  },
  {
   "cell_type": "code",
   "execution_count": 9,
   "metadata": {},
   "outputs": [],
   "source": [
    "def listToDict(lst):\n",
    "    '''\n",
    "    convert a list to dictionary\n",
    "    e.g. 'restaurant:1;marrakech.shtml:1' --> {'restaurant:1, marrakech.shtml:1}\n",
    "    \n",
    "    '''\n",
    "    op = {lst[i]: lst[i + 1] for i in range(0, len(lst), 2)}\n",
    "\n",
    "    return op\n",
    "\n",
    "def real_sent(input_dict):\n",
    "    '''\n",
    "    combine the word with frequency to one element \n",
    "    '''\n",
    "    sent = ''\n",
    "    for word in input_dict:\n",
    "        sent = sent + (word +' ') * input_dict[word]\n",
    "    return sent\n",
    "\n",
    "def token(data):\n",
    "    '''\n",
    "    from word with frequency to a complete piece \n",
    "    e.g. 'restaurant:1;marrakech.shtml:1' --> restaurant marrakech.shtml\n",
    "    '''\n",
    "\n",
    "    target = []\n",
    "    for element in data:\n",
    "        # split the word frequency \n",
    "        element = element.replace(';', ':')\n",
    "        element = element.split(':')\n",
    "        \n",
    "        # skip the Indexerror \n",
    "        try:\n",
    "            the_dict = listToDict(element)\n",
    "        except IndexError:\n",
    "            pass\n",
    "        \n",
    "        # final data\n",
    "        for key in the_dict:\n",
    "            the_dict[key] = int(the_dict[key])\n",
    "        target.append(real_sent(the_dict))\n",
    "\n",
    "    \n",
    "    return target"
   ]
  },
  {
   "cell_type": "code",
   "execution_count": 10,
   "metadata": {},
   "outputs": [
    {
     "data": {
      "text/plain": [
       "['fibre fibre fibre fibre fibre fibre fibre fibre fibre fibre fibre fibre fibre fibre fibre fibre quoi dangers combien hightech hightech hightech hightech hightech hightech hightech hightech hightech hightech hightech hightech hightech hightech hightech hightech que que que que que que que que que que que que que que que que est recevra operateur quelles installation monde tout oblige differences existe adsl choisir concerne sante telephonique com chez faire quelle debit les les cable quels quels fttb box ligne pour pour pour sur sur sur sur sur sur sur sur sur sur sur sur sur sur sur sur pose pose pose pose pose pose pose pose pose pose pose pose pose pose pose pose devient meilleur fttla suis suis suis des linternaute coute avec ftth avoir qui qui avant effectue libre debits celui delais internet internet internet internet internet internet internet internet internet internet internet internet internet internet internet internet abonner questions questions questions questions questions questions questions questions questions questions questions questions questions questions questions questions toujours sont sont mon ',\n",
       " 'restaurant marrakech.shtml ',\n",
       " 'payer faq taxe habitation macron qui detail programme ']"
      ]
     },
     "execution_count": 10,
     "metadata": {},
     "output_type": "execute_result"
    }
   ],
   "source": [
    "# test piece of data to have a look\n",
    "test = ['fibre:16;quoi:1;dangers:1;combien:1;hightech:16;que:16;est:1;recevra:1;operateur:1;quelles:1;installation:1;monde:1;tout:1;oblige:1;differences:1;existe:1;adsl:1;choisir:1;concerne:1;sante:1;telephonique:1;com:1;chez:1;faire:1;quelle:1;debit:1;les:2;cable:1;quels:2;fttb:1;box:1;ligne:1;pour:3;sur:16;pose:16;devient:1;meilleur:1;fttla:1;suis:3;des:1;linternaute:1;coute:1;avec:1;ftth:1;avoir:1;qui:2;avant:1;effectue:1;libre:1;debits:1;celui:1;delais:1;internet:16;abonner:1;questions:16;toujours:1;sont:2;mon:1',\n",
    "        'restaurant:1;marrakech.shtml:1','payer:1;faq:1;taxe:1;habitation:1;macron:1;qui:1;detail:1;programme:1']\n",
    "token(test)"
   ]
  },
  {
   "cell_type": "code",
   "execution_count": 11,
   "metadata": {},
   "outputs": [
    {
     "data": {
      "text/html": [
       "<div>\n",
       "<style scoped>\n",
       "    .dataframe tbody tr th:only-of-type {\n",
       "        vertical-align: middle;\n",
       "    }\n",
       "\n",
       "    .dataframe tbody tr th {\n",
       "        vertical-align: top;\n",
       "    }\n",
       "\n",
       "    .dataframe thead th {\n",
       "        text-align: right;\n",
       "    }\n",
       "</style>\n",
       "<table border=\"1\" class=\"dataframe\">\n",
       "  <thead>\n",
       "    <tr style=\"text-align: right;\">\n",
       "      <th></th>\n",
       "      <th>ID</th>\n",
       "      <th>keywords</th>\n",
       "      <th>age</th>\n",
       "      <th>sex</th>\n",
       "      <th>nbr_words</th>\n",
       "      <th>text</th>\n",
       "    </tr>\n",
       "  </thead>\n",
       "  <tbody>\n",
       "    <tr>\n",
       "      <th>0</th>\n",
       "      <td>1</td>\n",
       "      <td>fibre:16;quoi:1;dangers:1;combien:1;hightech:1...</td>\n",
       "      <td>62</td>\n",
       "      <td>F</td>\n",
       "      <td>57</td>\n",
       "      <td>fibre fibre fibre fibre fibre fibre fibre fibr...</td>\n",
       "    </tr>\n",
       "    <tr>\n",
       "      <th>1</th>\n",
       "      <td>24</td>\n",
       "      <td>tabac:1;les:1;terrorisme:1;excuses:2;luxe:2;do...</td>\n",
       "      <td>40</td>\n",
       "      <td>M</td>\n",
       "      <td>68</td>\n",
       "      <td>tabac les terrorisme excuses excuses luxe luxe...</td>\n",
       "    </tr>\n",
       "    <tr>\n",
       "      <th>2</th>\n",
       "      <td>28</td>\n",
       "      <td>lively:1;messi:1;enzo:1;nolwenn:1;diaz:1;kourt...</td>\n",
       "      <td>50</td>\n",
       "      <td>F</td>\n",
       "      <td>111</td>\n",
       "      <td>lively messi enzo nolwenn diaz kourtney beckha...</td>\n",
       "    </tr>\n",
       "    <tr>\n",
       "      <th>3</th>\n",
       "      <td>33</td>\n",
       "      <td>adams:1;refaeli:1;paltrow:1;brodier:2;ariane:2...</td>\n",
       "      <td>52</td>\n",
       "      <td>F</td>\n",
       "      <td>230</td>\n",
       "      <td>adams refaeli paltrow brodier brodier ariane a...</td>\n",
       "    </tr>\n",
       "    <tr>\n",
       "      <th>4</th>\n",
       "      <td>42</td>\n",
       "      <td>service:1;siege:1;avenue:1;douleur+a+la+poitri...</td>\n",
       "      <td>62</td>\n",
       "      <td>F</td>\n",
       "      <td>155</td>\n",
       "      <td>service siege avenue douleur+a+la+poitrine+cot...</td>\n",
       "    </tr>\n",
       "  </tbody>\n",
       "</table>\n",
       "</div>"
      ],
      "text/plain": [
       "   ID                                           keywords  age sex  nbr_words  \\\n",
       "0   1  fibre:16;quoi:1;dangers:1;combien:1;hightech:1...   62   F         57   \n",
       "1  24  tabac:1;les:1;terrorisme:1;excuses:2;luxe:2;do...   40   M         68   \n",
       "2  28  lively:1;messi:1;enzo:1;nolwenn:1;diaz:1;kourt...   50   F        111   \n",
       "3  33  adams:1;refaeli:1;paltrow:1;brodier:2;ariane:2...   52   F        230   \n",
       "4  42  service:1;siege:1;avenue:1;douleur+a+la+poitri...   62   F        155   \n",
       "\n",
       "                                                text  \n",
       "0  fibre fibre fibre fibre fibre fibre fibre fibr...  \n",
       "1  tabac les terrorisme excuses excuses luxe luxe...  \n",
       "2  lively messi enzo nolwenn diaz kourtney beckha...  \n",
       "3  adams refaeli paltrow brodier brodier ariane a...  \n",
       "4  service siege avenue douleur+a+la+poitrine+cot...  "
      ]
     },
     "execution_count": 11,
     "metadata": {},
     "output_type": "execute_result"
    }
   ],
   "source": [
    "tokens = token(data.keywords)\n",
    "data['text'] = pd.DataFrame(tokens)\n",
    "data.head()"
   ]
  },
  {
   "cell_type": "code",
   "execution_count": 12,
   "metadata": {},
   "outputs": [],
   "source": [
    "from cltk.stop.french.stops import STOPS_LIST as FRENCH_STOPS\n",
    "from nltk.corpus import stopwords\n",
    "stop_words = stopwords.words('french') + stopwords.words('english')\n",
    "\n",
    "# remove stop words\n",
    "from cltk.tokenize.word import WordTokenizer\n",
    "data.text = data.text.astype('str')\n",
    "data.text = data.text.str.lower()\n",
    "data['text_clean'] = data['text'].apply(lambda x: ' '.join([word for word in x.split() if word not in stop_words]))"
   ]
  },
  {
   "cell_type": "code",
   "execution_count": 13,
   "metadata": {},
   "outputs": [
    {
     "data": {
      "text/html": [
       "<div>\n",
       "<style scoped>\n",
       "    .dataframe tbody tr th:only-of-type {\n",
       "        vertical-align: middle;\n",
       "    }\n",
       "\n",
       "    .dataframe tbody tr th {\n",
       "        vertical-align: top;\n",
       "    }\n",
       "\n",
       "    .dataframe thead th {\n",
       "        text-align: right;\n",
       "    }\n",
       "</style>\n",
       "<table border=\"1\" class=\"dataframe\">\n",
       "  <thead>\n",
       "    <tr style=\"text-align: right;\">\n",
       "      <th></th>\n",
       "      <th>ID</th>\n",
       "      <th>keywords</th>\n",
       "      <th>age</th>\n",
       "      <th>sex</th>\n",
       "      <th>nbr_words</th>\n",
       "      <th>text</th>\n",
       "      <th>text_clean</th>\n",
       "    </tr>\n",
       "  </thead>\n",
       "  <tbody>\n",
       "    <tr>\n",
       "      <th>0</th>\n",
       "      <td>1</td>\n",
       "      <td>fibre:16;quoi:1;dangers:1;combien:1;hightech:1...</td>\n",
       "      <td>62</td>\n",
       "      <td>F</td>\n",
       "      <td>57</td>\n",
       "      <td>fibre fibre fibre fibre fibre fibre fibre fibr...</td>\n",
       "      <td>fibre fibre fibre fibre fibre fibre fibre fibr...</td>\n",
       "    </tr>\n",
       "    <tr>\n",
       "      <th>1</th>\n",
       "      <td>24</td>\n",
       "      <td>tabac:1;les:1;terrorisme:1;excuses:2;luxe:2;do...</td>\n",
       "      <td>40</td>\n",
       "      <td>M</td>\n",
       "      <td>68</td>\n",
       "      <td>tabac les terrorisme excuses excuses luxe luxe...</td>\n",
       "      <td>tabac terrorisme excuses excuses luxe luxe dol...</td>\n",
       "    </tr>\n",
       "    <tr>\n",
       "      <th>2</th>\n",
       "      <td>28</td>\n",
       "      <td>lively:1;messi:1;enzo:1;nolwenn:1;diaz:1;kourt...</td>\n",
       "      <td>50</td>\n",
       "      <td>F</td>\n",
       "      <td>111</td>\n",
       "      <td>lively messi enzo nolwenn diaz kourtney beckha...</td>\n",
       "      <td>lively messi enzo nolwenn diaz kourtney beckha...</td>\n",
       "    </tr>\n",
       "    <tr>\n",
       "      <th>3</th>\n",
       "      <td>33</td>\n",
       "      <td>adams:1;refaeli:1;paltrow:1;brodier:2;ariane:2...</td>\n",
       "      <td>52</td>\n",
       "      <td>F</td>\n",
       "      <td>230</td>\n",
       "      <td>adams refaeli paltrow brodier brodier ariane a...</td>\n",
       "      <td>adams refaeli paltrow brodier brodier ariane a...</td>\n",
       "    </tr>\n",
       "    <tr>\n",
       "      <th>4</th>\n",
       "      <td>42</td>\n",
       "      <td>service:1;siege:1;avenue:1;douleur+a+la+poitri...</td>\n",
       "      <td>62</td>\n",
       "      <td>F</td>\n",
       "      <td>155</td>\n",
       "      <td>service siege avenue douleur+a+la+poitrine+cot...</td>\n",
       "      <td>service siege avenue douleur a la poitrine cot...</td>\n",
       "    </tr>\n",
       "    <tr>\n",
       "      <th>5</th>\n",
       "      <td>46</td>\n",
       "      <td>lourdes:13;qui:13;pratique:13;trinitaine:2;pie...</td>\n",
       "      <td>74</td>\n",
       "      <td>F</td>\n",
       "      <td>79</td>\n",
       "      <td>lourdes lourdes lourdes lourdes lourdes lourde...</td>\n",
       "      <td>lourdes lourdes lourdes lourdes lourdes lourde...</td>\n",
       "    </tr>\n",
       "    <tr>\n",
       "      <th>6</th>\n",
       "      <td>58</td>\n",
       "      <td>sociaux:2;son:1;chateauneuf:1;petite:1;chasse:...</td>\n",
       "      <td>35</td>\n",
       "      <td>F</td>\n",
       "      <td>103</td>\n",
       "      <td>sociaux sociaux son chateauneuf petite chasse ...</td>\n",
       "      <td>sociaux sociaux chateauneuf petite chasse chim...</td>\n",
       "    </tr>\n",
       "    <tr>\n",
       "      <th>7</th>\n",
       "      <td>67</td>\n",
       "      <td>melania:1;kunakey:2;anderson:1;people:95;salue...</td>\n",
       "      <td>64</td>\n",
       "      <td>F</td>\n",
       "      <td>169</td>\n",
       "      <td>melania kunakey kunakey anderson people people...</td>\n",
       "      <td>melania kunakey kunakey anderson people people...</td>\n",
       "    </tr>\n",
       "    <tr>\n",
       "      <th>8</th>\n",
       "      <td>74</td>\n",
       "      <td>folle:1;actu:2;celebrites:9;par:1;actualites:3...</td>\n",
       "      <td>47</td>\n",
       "      <td>M</td>\n",
       "      <td>69</td>\n",
       "      <td>folle actu actu celebrites celebrites celebrit...</td>\n",
       "      <td>folle actu actu celebrites celebrites celebrit...</td>\n",
       "    </tr>\n",
       "    <tr>\n",
       "      <th>9</th>\n",
       "      <td>75</td>\n",
       "      <td>faute:1;expressions:1;les:2;bougival_09378fe2:...</td>\n",
       "      <td>54</td>\n",
       "      <td>M</td>\n",
       "      <td>76</td>\n",
       "      <td>faute expressions les les bougival_09378fe2 tr...</td>\n",
       "      <td>faute expressions  travail actualite kev pisci...</td>\n",
       "    </tr>\n",
       "  </tbody>\n",
       "</table>\n",
       "</div>"
      ],
      "text/plain": [
       "   ID                                           keywords  age sex  nbr_words  \\\n",
       "0   1  fibre:16;quoi:1;dangers:1;combien:1;hightech:1...   62   F         57   \n",
       "1  24  tabac:1;les:1;terrorisme:1;excuses:2;luxe:2;do...   40   M         68   \n",
       "2  28  lively:1;messi:1;enzo:1;nolwenn:1;diaz:1;kourt...   50   F        111   \n",
       "3  33  adams:1;refaeli:1;paltrow:1;brodier:2;ariane:2...   52   F        230   \n",
       "4  42  service:1;siege:1;avenue:1;douleur+a+la+poitri...   62   F        155   \n",
       "5  46  lourdes:13;qui:13;pratique:13;trinitaine:2;pie...   74   F         79   \n",
       "6  58  sociaux:2;son:1;chateauneuf:1;petite:1;chasse:...   35   F        103   \n",
       "7  67  melania:1;kunakey:2;anderson:1;people:95;salue...   64   F        169   \n",
       "8  74  folle:1;actu:2;celebrites:9;par:1;actualites:3...   47   M         69   \n",
       "9  75  faute:1;expressions:1;les:2;bougival_09378fe2:...   54   M         76   \n",
       "\n",
       "                                                text  \\\n",
       "0  fibre fibre fibre fibre fibre fibre fibre fibr...   \n",
       "1  tabac les terrorisme excuses excuses luxe luxe...   \n",
       "2  lively messi enzo nolwenn diaz kourtney beckha...   \n",
       "3  adams refaeli paltrow brodier brodier ariane a...   \n",
       "4  service siege avenue douleur+a+la+poitrine+cot...   \n",
       "5  lourdes lourdes lourdes lourdes lourdes lourde...   \n",
       "6  sociaux sociaux son chateauneuf petite chasse ...   \n",
       "7  melania kunakey kunakey anderson people people...   \n",
       "8  folle actu actu celebrites celebrites celebrit...   \n",
       "9  faute expressions les les bougival_09378fe2 tr...   \n",
       "\n",
       "                                          text_clean  \n",
       "0  fibre fibre fibre fibre fibre fibre fibre fibr...  \n",
       "1  tabac terrorisme excuses excuses luxe luxe dol...  \n",
       "2  lively messi enzo nolwenn diaz kourtney beckha...  \n",
       "3  adams refaeli paltrow brodier brodier ariane a...  \n",
       "4  service siege avenue douleur a la poitrine cot...  \n",
       "5  lourdes lourdes lourdes lourdes lourdes lourde...  \n",
       "6  sociaux sociaux chateauneuf petite chasse chim...  \n",
       "7  melania kunakey kunakey anderson people people...  \n",
       "8  folle actu actu celebrites celebrites celebrit...  \n",
       "9  faute expressions  travail actualite kev pisci...  "
      ]
     },
     "execution_count": 13,
     "metadata": {},
     "output_type": "execute_result"
    }
   ],
   "source": [
    "# remove symbols\n",
    "import regex as re \n",
    "\n",
    "# y = pd.DataFrame(['shtml restaurant m%c3',' 444 marak 0ab','an'], columns=['col'])\n",
    "# y.str.re.sub(r'\\w*enc\\w*', '', y)\n",
    "# result: ['restaurant',' marak ','an']\n",
    "\n",
    "def clean_symbol(data,col): \n",
    "    data[col] = data[col].str.replace(r\"[^A-Za-z0-9(),!?@\\'\\`\\\"\\_\\n]\", \" \")\n",
    "    data[col] = data[col].apply(lambda x:re.sub(r'\\w*html\\w*', '', x) )\n",
    "    data[col] = data[col].apply(lambda x:re.sub(r'\\w*%\\w*', '', x) )\n",
    "    data[col] = data[col].apply(lambda x:re.sub(r'\\w*[0-9]\\w*', '', x) )\n",
    "#     data[col] = data[col].str.lower()\n",
    "    return data\n",
    "\n",
    "data = clean_symbol(data, \"text_clean\")\n",
    "data.head(10)"
   ]
  },
  {
   "cell_type": "code",
   "execution_count": 14,
   "metadata": {},
   "outputs": [
    {
     "data": {
      "text/html": [
       "<div>\n",
       "<style scoped>\n",
       "    .dataframe tbody tr th:only-of-type {\n",
       "        vertical-align: middle;\n",
       "    }\n",
       "\n",
       "    .dataframe tbody tr th {\n",
       "        vertical-align: top;\n",
       "    }\n",
       "\n",
       "    .dataframe thead th {\n",
       "        text-align: right;\n",
       "    }\n",
       "</style>\n",
       "<table border=\"1\" class=\"dataframe\">\n",
       "  <thead>\n",
       "    <tr style=\"text-align: right;\">\n",
       "      <th></th>\n",
       "      <th>ID</th>\n",
       "      <th>keywords</th>\n",
       "      <th>age</th>\n",
       "      <th>sex</th>\n",
       "      <th>nbr_words</th>\n",
       "      <th>text</th>\n",
       "      <th>text_clean</th>\n",
       "      <th>token</th>\n",
       "    </tr>\n",
       "  </thead>\n",
       "  <tbody>\n",
       "    <tr>\n",
       "      <th>0</th>\n",
       "      <td>1</td>\n",
       "      <td>fibre:16;quoi:1;dangers:1;combien:1;hightech:1...</td>\n",
       "      <td>62</td>\n",
       "      <td>F</td>\n",
       "      <td>57</td>\n",
       "      <td>fibre fibre fibre fibre fibre fibre fibre fibr...</td>\n",
       "      <td>fibre fibre fibre fibre fibre fibre fibre fibr...</td>\n",
       "      <td>[fibre, fibre, fibre, fibre, fibre, fibre, fib...</td>\n",
       "    </tr>\n",
       "    <tr>\n",
       "      <th>1</th>\n",
       "      <td>24</td>\n",
       "      <td>tabac:1;les:1;terrorisme:1;excuses:2;luxe:2;do...</td>\n",
       "      <td>40</td>\n",
       "      <td>M</td>\n",
       "      <td>68</td>\n",
       "      <td>tabac les terrorisme excuses excuses luxe luxe...</td>\n",
       "      <td>tabac terrorisme excuses excuses luxe luxe dol...</td>\n",
       "      <td>[tabac, terrorisme, excuses, excuses, luxe, lu...</td>\n",
       "    </tr>\n",
       "    <tr>\n",
       "      <th>2</th>\n",
       "      <td>28</td>\n",
       "      <td>lively:1;messi:1;enzo:1;nolwenn:1;diaz:1;kourt...</td>\n",
       "      <td>50</td>\n",
       "      <td>F</td>\n",
       "      <td>111</td>\n",
       "      <td>lively messi enzo nolwenn diaz kourtney beckha...</td>\n",
       "      <td>lively messi enzo nolwenn diaz kourtney beckha...</td>\n",
       "      <td>[lively, messi, enzo, nolwenn, diaz, kourtney,...</td>\n",
       "    </tr>\n",
       "    <tr>\n",
       "      <th>3</th>\n",
       "      <td>33</td>\n",
       "      <td>adams:1;refaeli:1;paltrow:1;brodier:2;ariane:2...</td>\n",
       "      <td>52</td>\n",
       "      <td>F</td>\n",
       "      <td>230</td>\n",
       "      <td>adams refaeli paltrow brodier brodier ariane a...</td>\n",
       "      <td>adams refaeli paltrow brodier brodier ariane a...</td>\n",
       "      <td>[adams, refaeli, paltrow, brodier, brodier, ar...</td>\n",
       "    </tr>\n",
       "    <tr>\n",
       "      <th>4</th>\n",
       "      <td>42</td>\n",
       "      <td>service:1;siege:1;avenue:1;douleur+a+la+poitri...</td>\n",
       "      <td>62</td>\n",
       "      <td>F</td>\n",
       "      <td>155</td>\n",
       "      <td>service siege avenue douleur+a+la+poitrine+cot...</td>\n",
       "      <td>service siege avenue douleur a la poitrine cot...</td>\n",
       "      <td>[service, siege, avenue, douleur, a, la, poitr...</td>\n",
       "    </tr>\n",
       "  </tbody>\n",
       "</table>\n",
       "</div>"
      ],
      "text/plain": [
       "   ID                                           keywords  age sex  nbr_words  \\\n",
       "0   1  fibre:16;quoi:1;dangers:1;combien:1;hightech:1...   62   F         57   \n",
       "1  24  tabac:1;les:1;terrorisme:1;excuses:2;luxe:2;do...   40   M         68   \n",
       "2  28  lively:1;messi:1;enzo:1;nolwenn:1;diaz:1;kourt...   50   F        111   \n",
       "3  33  adams:1;refaeli:1;paltrow:1;brodier:2;ariane:2...   52   F        230   \n",
       "4  42  service:1;siege:1;avenue:1;douleur+a+la+poitri...   62   F        155   \n",
       "\n",
       "                                                text  \\\n",
       "0  fibre fibre fibre fibre fibre fibre fibre fibr...   \n",
       "1  tabac les terrorisme excuses excuses luxe luxe...   \n",
       "2  lively messi enzo nolwenn diaz kourtney beckha...   \n",
       "3  adams refaeli paltrow brodier brodier ariane a...   \n",
       "4  service siege avenue douleur+a+la+poitrine+cot...   \n",
       "\n",
       "                                          text_clean  \\\n",
       "0  fibre fibre fibre fibre fibre fibre fibre fibr...   \n",
       "1  tabac terrorisme excuses excuses luxe luxe dol...   \n",
       "2  lively messi enzo nolwenn diaz kourtney beckha...   \n",
       "3  adams refaeli paltrow brodier brodier ariane a...   \n",
       "4  service siege avenue douleur a la poitrine cot...   \n",
       "\n",
       "                                               token  \n",
       "0  [fibre, fibre, fibre, fibre, fibre, fibre, fib...  \n",
       "1  [tabac, terrorisme, excuses, excuses, luxe, lu...  \n",
       "2  [lively, messi, enzo, nolwenn, diaz, kourtney,...  \n",
       "3  [adams, refaeli, paltrow, brodier, brodier, ar...  \n",
       "4  [service, siege, avenue, douleur, a, la, poitr...  "
      ]
     },
     "execution_count": 14,
     "metadata": {},
     "output_type": "execute_result"
    }
   ],
   "source": [
    "from nltk.tokenize import RegexpTokenizer\n",
    "\n",
    "# tokenize\n",
    "tokenizer = RegexpTokenizer(r'\\w+')\n",
    "data['token'] = data.text_clean.apply(tokenizer.tokenize)\n",
    "data.head()"
   ]
  },
  {
   "cell_type": "code",
   "execution_count": 15,
   "metadata": {},
   "outputs": [
    {
     "name": "stdout",
     "output_type": "stream",
     "text": [
      "2951033 words total, with a vocabulary size of 32248\n",
      "Max sentence length is 6871\n"
     ]
    }
   ],
   "source": [
    "# token check \n",
    "\n",
    "all_words = [word for tokens in data[\"token\"] for word in tokens]\n",
    "sentence_lengths = [len(tokens) for tokens in data[\"token\"]]\n",
    "VOCAB = sorted(list(set(all_words)))\n",
    "print(\"%s words total, with a vocabulary size of %s\" % (len(all_words), len(VOCAB)))\n",
    "print(\"Max sentence length is %s\" % max(sentence_lengths))"
   ]
  },
  {
   "cell_type": "markdown",
   "metadata": {},
   "source": [
    "---\n",
    "### **2. Gender Prediction**\n"
   ]
  },
  {
   "cell_type": "code",
   "execution_count": 16,
   "metadata": {},
   "outputs": [],
   "source": [
    "from nltk.tokenize import word_tokenize\n",
    "from nltk.stem.wordnet import WordNetLemmatizer\n",
    "from nltk.stem import SnowballStemmer\n",
    "from nltk.stem.porter import PorterStemmer\n",
    "from sklearn.feature_extraction.text import TfidfVectorizer\n",
    "import nltk\n",
    "\n",
    "def tokenize(text):\n",
    "    \n",
    "    # Tokenize words\n",
    "    tokens = word_tokenize(text)  \n",
    "    # instantiate lemmatizer\n",
    "    lemmatizer = WordNetLemmatizer()\n",
    "    # instantiate stemmer\n",
    "    stemmer = PorterStemmer()  \n",
    "    #french stemmer \n",
    "    fr = SnowballStemmer('french')\n",
    "    \n",
    "    clean_tokens = []\n",
    "    for tok in tokens:\n",
    "        \n",
    "        # lemmtize token using noun as part of speech\n",
    "        clean_tok = lemmatizer.lemmatize(tok)\n",
    "        # lemmtize token using verb as part of speech\n",
    "        clean_tok = lemmatizer.lemmatize(clean_tok, pos='v') #lclean_tok = lemmatizer.lemmatize(clean_tok, pos='v')\n",
    "        # stem token\n",
    "        clean_tok = stemmer.stem(clean_tok)\n",
    "        \n",
    "        # strip whitespace and append clean token to array\n",
    "        clean_tokens.append(clean_tok.strip())\n",
    "        \n",
    "    return clean_tokens"
   ]
  },
  {
   "cell_type": "code",
   "execution_count": 17,
   "metadata": {},
   "outputs": [],
   "source": [
    "from sklearn.model_selection import train_test_split\n",
    "from sklearn.feature_extraction.text import CountVectorizer, TfidfVectorizer\n",
    "from nltk.corpus import stopwords\n",
    "\n",
    "data.text = data.text.astype('str')\n",
    "data.sex = data.sex.replace({'F':1, 'M':0})\n",
    "\n",
    "def cv(data):\n",
    "#     count_vectorizer = CountVectorizer(max_features=5000)\n",
    "    count_vectorizer = TfidfVectorizer(tokenizer=tokenize, min_df=0.01)\n",
    "    emb = count_vectorizer.fit_transform(data)\n",
    "\n",
    "    return emb, count_vectorizer\n",
    "\n",
    "list_corpus = data.text_clean.tolist()\n",
    "list_labels = data[[\"sex\", \"age\"]]\n",
    "\n",
    "X_train, X_test, y_train, y_test = train_test_split(list_corpus, list_labels, test_size=0.2, random_state=0)\n",
    "X_train_counts, count_vectorizer = cv(X_train)\n",
    "\n",
    "cv_test = TfidfVectorizer(vocabulary = count_vectorizer.vocabulary_)\n",
    "cv_test_fit = cv_test.fit(X_test)\n",
    "X_test_counts = cv_test.transform(X_test)"
   ]
  },
  {
   "cell_type": "code",
   "execution_count": 18,
   "metadata": {},
   "outputs": [
    {
     "data": {
      "text/plain": [
       "<8000x1412 sparse matrix of type '<class 'numpy.float64'>'\n",
       "\twith 618658 stored elements in Compressed Sparse Row format>"
      ]
     },
     "execution_count": 18,
     "metadata": {},
     "output_type": "execute_result"
    }
   ],
   "source": [
    "X_train_counts"
   ]
  },
  {
   "cell_type": "code",
   "execution_count": 19,
   "metadata": {},
   "outputs": [],
   "source": [
    "from sklearn.metrics import accuracy_score, f1_score, precision_score, recall_score, classification_report\n",
    "\n",
    "def get_metrics(y_test, y_predicted):  \n",
    "    # true positives / (true positives+false positives)\n",
    "    precision = precision_score(y_test, y_predicted, pos_label=None,\n",
    "                                    average='weighted')             \n",
    "    # true positives / (true positives + false negatives)\n",
    "    recall = recall_score(y_test, y_predicted, pos_label=None,\n",
    "                              average='weighted')\n",
    "    \n",
    "    # harmonic mean of precision and recall\n",
    "    f1 = f1_score(y_test, y_predicted, pos_label=None, average='weighted')\n",
    "    \n",
    "    # true positives + true negatives/ total\n",
    "    accuracy = accuracy_score(y_test, y_predicted)\n",
    "    return accuracy, precision, recall, f1\n"
   ]
  },
  {
   "cell_type": "code",
   "execution_count": 20,
   "metadata": {},
   "outputs": [
    {
     "name": "stdout",
     "output_type": "stream",
     "text": [
      "accuracy = 0.719, precision = 0.721, recall = 0.719, f1 = 0.719\n"
     ]
    }
   ],
   "source": [
    "from sklearn.linear_model import LogisticRegression\n",
    "clf = LogisticRegression()\n",
    "clf.fit(X_train_counts.toarray(), y_train['sex'])\n",
    "\n",
    "y_predicted_counts = clf.predict(X_test_counts)\n",
    "accuracy, precision, recall, f1 = get_metrics(y_test['sex'], y_predicted_counts)\n",
    "print(\"accuracy = %.3f, precision = %.3f, recall = %.3f, f1 = %.3f\" % (accuracy, precision, recall, f1))"
   ]
  },
  {
   "cell_type": "code",
   "execution_count": 21,
   "metadata": {},
   "outputs": [
    {
     "name": "stdout",
     "output_type": "stream",
     "text": [
      "accuracy = 0.719, precision = 0.721, recall = 0.719, f1 = 0.719\n"
     ]
    }
   ],
   "source": [
    "from sklearn.svm import SVC\n",
    "clf3 = SVC(kernel='linear', C=0.5)\n",
    "clf.fit(X_train_counts.toarray(), y_train['sex'])\n",
    "y_predicted_counts = clf.predict(X_test_counts.toarray())\n",
    "\n",
    "accuracy, precision, recall, f1 = get_metrics(y_test['sex'], y_predicted_counts)\n",
    "print(\"accuracy = %.3f, precision = %.3f, recall = %.3f, f1 = %.3f\" % (accuracy, precision, recall, f1))"
   ]
  },
  {
   "cell_type": "code",
   "execution_count": 22,
   "metadata": {},
   "outputs": [
    {
     "name": "stdout",
     "output_type": "stream",
     "text": [
      "accuracy = 0.713, precision = 0.716, recall = 0.713, f1 = 0.714\n"
     ]
    }
   ],
   "source": [
    "from sklearn.neighbors import KNeighborsClassifier\n",
    "\n",
    "clf = KNeighborsClassifier(n_neighbors=10)\n",
    "clf.fit(X_train_counts.toarray(), y_train['sex'])\n",
    "\n",
    "y_predicted_counts = clf.predict(X_test_counts.toarray())\n",
    "\n",
    "accuracy, precision, recall, f1 = get_metrics(y_test['sex'], y_predicted_counts)\n",
    "print(\"accuracy = %.3f, precision = %.3f, recall = %.3f, f1 = %.3f\" % (accuracy, precision, recall, f1))"
   ]
  },
  {
   "cell_type": "code",
   "execution_count": 23,
   "metadata": {},
   "outputs": [
    {
     "name": "stdout",
     "output_type": "stream",
     "text": [
      "accuracy = 0.742, precision = 0.750, recall = 0.742, f1 = 0.742\n"
     ]
    }
   ],
   "source": [
    "from sklearn.naive_bayes import MultinomialNB\n",
    "\n",
    "clf = MultinomialNB()\n",
    "clf.fit(X_train_counts.toarray(), y_train['sex'])\n",
    "\n",
    "y_predicted_counts = clf.predict(X_test_counts)\n",
    "accuracy, precision, recall, f1 = get_metrics(y_test['sex'], y_predicted_counts)\n",
    "print(\"accuracy = %.3f, precision = %.3f, recall = %.3f, f1 = %.3f\" % (accuracy, precision, recall, f1))"
   ]
  },
  {
   "cell_type": "code",
   "execution_count": 24,
   "metadata": {},
   "outputs": [
    {
     "data": {
      "text/plain": [
       "{0: {'tops': [(-3.811820319483062, 'star'),\n",
       "   (-3.793213852581494, 'week'),\n",
       "   (-3.7914952530925206, 'magazin'),\n",
       "   (-3.791263755823546, 'end'),\n",
       "   (-3.619744713379058, 'mireil'),\n",
       "   (-3.619244574164501, 'darc'),\n",
       "   (-3.5959674028156785, 'obsequ'),\n",
       "   (-3.4623355574930095, 'photo'),\n",
       "   (-3.343538236025286, 'even'),\n",
       "   (-3.029301879643837, 'peopl')],\n",
       "  'bottom': [(-9.492652494573004, 'gte'),\n",
       "   (-9.504381339781114, 'jess'),\n",
       "   (-9.517971889111447, 'tourer'),\n",
       "   (-9.518487300930879, 'countri'),\n",
       "   (-9.54550400366509, 'rond'),\n",
       "   (-9.574750278196131, 'hyundai'),\n",
       "   (-9.581704488378547, 'kona'),\n",
       "   (-9.581860353399872, 'vitre'),\n",
       "   (-9.601543390249109, 'gsi'),\n",
       "   (-9.606879450342374, 'grandland')]}}"
      ]
     },
     "execution_count": 24,
     "metadata": {},
     "output_type": "execute_result"
    }
   ],
   "source": [
    "def get_most_important_features(vectorizer, model, n=5):\n",
    "    index_to_word = {v:k for k,v in vectorizer.vocabulary_.items()}\n",
    "    \n",
    "    # loop for each class\n",
    "    classes ={}\n",
    "    for class_index in range(model.coef_.shape[0]):\n",
    "        word_importances = [(el, index_to_word[i]) for i,el in enumerate(model.coef_[class_index])]\n",
    "        sorted_coeff = sorted(word_importances, key = lambda x : x[0], reverse=True)\n",
    "        tops = sorted(sorted_coeff[:n], key = lambda x : x[0])\n",
    "        bottom = sorted_coeff[-n:]\n",
    "        classes[class_index] = {\n",
    "            'tops':tops,\n",
    "            'bottom':bottom\n",
    "        }\n",
    "    return classes\n",
    "\n",
    "importance = get_most_important_features(count_vectorizer, clf, 10)\n",
    "importance"
   ]
  },
  {
   "cell_type": "code",
   "execution_count": 25,
   "metadata": {},
   "outputs": [
    {
     "data": {
      "text/plain": [
       "0.738"
      ]
     },
     "execution_count": 25,
     "metadata": {},
     "output_type": "execute_result"
    }
   ],
   "source": [
    "from sklearn.ensemble import VotingClassifier\n",
    "\n",
    "estimators = [('nb',MultinomialNB()), ('lr', LogisticRegression()), ('svm',SVC(kernel='linear', C=0.5, probability=True))]\n",
    "voting_clf = VotingClassifier(estimators=estimators, voting='soft')\n",
    "voting_clf.fit(X_train_counts, y_train['sex'])\n",
    "voting_clf.score(X_test_counts, y_test['sex'])"
   ]
  },
  {
   "cell_type": "markdown",
   "metadata": {},
   "source": [
    "### **3. Age Prediction**"
   ]
  },
  {
   "cell_type": "code",
   "execution_count": 26,
   "metadata": {},
   "outputs": [],
   "source": [
    "from sklearn.ensemble import GradientBoostingRegressor\n",
    "from sklearn.model_selection import GridSearchCV\n",
    "\n",
    "\n",
    "gbdt = GradientBoostingRegressor()\n",
    "gbdt.fit(X_train_counts, y_train['age'].tolist())\n",
    "y_pred_age = gbdt.predict(X_test_counts)"
   ]
  },
  {
   "cell_type": "code",
   "execution_count": 27,
   "metadata": {},
   "outputs": [
    {
     "data": {
      "text/plain": [
       "153.27666685868485"
      ]
     },
     "execution_count": 27,
     "metadata": {},
     "output_type": "execute_result"
    }
   ],
   "source": [
    "from sklearn.metrics import mean_squared_error\n",
    "mse = mean_squared_error(y_pred_age,y_test['age'])\n",
    "mse"
   ]
  }
 ],
 "metadata": {
  "kernelspec": {
   "display_name": "Python 3",
   "language": "python",
   "name": "python3"
  },
  "language_info": {
   "codemirror_mode": {
    "name": "ipython",
    "version": 3
   },
   "file_extension": ".py",
   "mimetype": "text/x-python",
   "name": "python",
   "nbconvert_exporter": "python",
   "pygments_lexer": "ipython3",
   "version": "3.7.6"
  }
 },
 "nbformat": 4,
 "nbformat_minor": 4
}
